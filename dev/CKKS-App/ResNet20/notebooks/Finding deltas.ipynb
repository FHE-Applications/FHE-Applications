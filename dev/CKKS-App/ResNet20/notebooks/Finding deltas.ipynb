{
 "cells": [
  {
   "cell_type": "code",
   "execution_count": 70,
   "id": "974575f9",
   "metadata": {},
   "outputs": [
    {
     "name": "stderr",
     "output_type": "stream",
     "text": [
      "Using cache found in /Users/narger/.cache/torch/hub/chenyaofo_pytorch-cifar-models_master\n"
     ]
    },
    {
     "data": {
      "text/plain": [
       "CifarResNet(\n",
       "  (conv1): Conv2d(3, 16, kernel_size=(3, 3), stride=(1, 1), padding=(1, 1), bias=False)\n",
       "  (bn1): BatchNorm2d(16, eps=1e-05, momentum=0.1, affine=True, track_running_stats=True)\n",
       "  (relu): ReLU(inplace=True)\n",
       "  (layer1): Sequential(\n",
       "    (0): BasicBlock(\n",
       "      (conv1): Conv2d(16, 16, kernel_size=(3, 3), stride=(1, 1), padding=(1, 1), bias=False)\n",
       "      (bn1): BatchNorm2d(16, eps=1e-05, momentum=0.1, affine=True, track_running_stats=True)\n",
       "      (relu): ReLU(inplace=True)\n",
       "      (conv2): Conv2d(16, 16, kernel_size=(3, 3), stride=(1, 1), padding=(1, 1), bias=False)\n",
       "      (bn2): BatchNorm2d(16, eps=1e-05, momentum=0.1, affine=True, track_running_stats=True)\n",
       "    )\n",
       "    (1): BasicBlock(\n",
       "      (conv1): Conv2d(16, 16, kernel_size=(3, 3), stride=(1, 1), padding=(1, 1), bias=False)\n",
       "      (bn1): BatchNorm2d(16, eps=1e-05, momentum=0.1, affine=True, track_running_stats=True)\n",
       "      (relu): ReLU(inplace=True)\n",
       "      (conv2): Conv2d(16, 16, kernel_size=(3, 3), stride=(1, 1), padding=(1, 1), bias=False)\n",
       "      (bn2): BatchNorm2d(16, eps=1e-05, momentum=0.1, affine=True, track_running_stats=True)\n",
       "    )\n",
       "    (2): BasicBlock(\n",
       "      (conv1): Conv2d(16, 16, kernel_size=(3, 3), stride=(1, 1), padding=(1, 1), bias=False)\n",
       "      (bn1): BatchNorm2d(16, eps=1e-05, momentum=0.1, affine=True, track_running_stats=True)\n",
       "      (relu): ReLU(inplace=True)\n",
       "      (conv2): Conv2d(16, 16, kernel_size=(3, 3), stride=(1, 1), padding=(1, 1), bias=False)\n",
       "      (bn2): BatchNorm2d(16, eps=1e-05, momentum=0.1, affine=True, track_running_stats=True)\n",
       "    )\n",
       "  )\n",
       "  (layer2): Sequential(\n",
       "    (0): BasicBlock(\n",
       "      (conv1): Conv2d(16, 32, kernel_size=(3, 3), stride=(2, 2), padding=(1, 1), bias=False)\n",
       "      (bn1): BatchNorm2d(32, eps=1e-05, momentum=0.1, affine=True, track_running_stats=True)\n",
       "      (relu): ReLU(inplace=True)\n",
       "      (conv2): Conv2d(32, 32, kernel_size=(3, 3), stride=(1, 1), padding=(1, 1), bias=False)\n",
       "      (bn2): BatchNorm2d(32, eps=1e-05, momentum=0.1, affine=True, track_running_stats=True)\n",
       "      (downsample): Sequential(\n",
       "        (0): Conv2d(16, 32, kernel_size=(1, 1), stride=(2, 2), bias=False)\n",
       "        (1): BatchNorm2d(32, eps=1e-05, momentum=0.1, affine=True, track_running_stats=True)\n",
       "      )\n",
       "    )\n",
       "    (1): BasicBlock(\n",
       "      (conv1): Conv2d(32, 32, kernel_size=(3, 3), stride=(1, 1), padding=(1, 1), bias=False)\n",
       "      (bn1): BatchNorm2d(32, eps=1e-05, momentum=0.1, affine=True, track_running_stats=True)\n",
       "      (relu): ReLU(inplace=True)\n",
       "      (conv2): Conv2d(32, 32, kernel_size=(3, 3), stride=(1, 1), padding=(1, 1), bias=False)\n",
       "      (bn2): BatchNorm2d(32, eps=1e-05, momentum=0.1, affine=True, track_running_stats=True)\n",
       "    )\n",
       "    (2): BasicBlock(\n",
       "      (conv1): Conv2d(32, 32, kernel_size=(3, 3), stride=(1, 1), padding=(1, 1), bias=False)\n",
       "      (bn1): BatchNorm2d(32, eps=1e-05, momentum=0.1, affine=True, track_running_stats=True)\n",
       "      (relu): ReLU(inplace=True)\n",
       "      (conv2): Conv2d(32, 32, kernel_size=(3, 3), stride=(1, 1), padding=(1, 1), bias=False)\n",
       "      (bn2): BatchNorm2d(32, eps=1e-05, momentum=0.1, affine=True, track_running_stats=True)\n",
       "    )\n",
       "  )\n",
       "  (layer3): Sequential(\n",
       "    (0): BasicBlock(\n",
       "      (conv1): Conv2d(32, 64, kernel_size=(3, 3), stride=(2, 2), padding=(1, 1), bias=False)\n",
       "      (bn1): BatchNorm2d(64, eps=1e-05, momentum=0.1, affine=True, track_running_stats=True)\n",
       "      (relu): ReLU(inplace=True)\n",
       "      (conv2): Conv2d(64, 64, kernel_size=(3, 3), stride=(1, 1), padding=(1, 1), bias=False)\n",
       "      (bn2): BatchNorm2d(64, eps=1e-05, momentum=0.1, affine=True, track_running_stats=True)\n",
       "      (downsample): Sequential(\n",
       "        (0): Conv2d(32, 64, kernel_size=(1, 1), stride=(2, 2), bias=False)\n",
       "        (1): BatchNorm2d(64, eps=1e-05, momentum=0.1, affine=True, track_running_stats=True)\n",
       "      )\n",
       "    )\n",
       "    (1): BasicBlock(\n",
       "      (conv1): Conv2d(64, 64, kernel_size=(3, 3), stride=(1, 1), padding=(1, 1), bias=False)\n",
       "      (bn1): BatchNorm2d(64, eps=1e-05, momentum=0.1, affine=True, track_running_stats=True)\n",
       "      (relu): ReLU(inplace=True)\n",
       "      (conv2): Conv2d(64, 64, kernel_size=(3, 3), stride=(1, 1), padding=(1, 1), bias=False)\n",
       "      (bn2): BatchNorm2d(64, eps=1e-05, momentum=0.1, affine=True, track_running_stats=True)\n",
       "    )\n",
       "    (2): BasicBlock(\n",
       "      (conv1): Conv2d(64, 64, kernel_size=(3, 3), stride=(1, 1), padding=(1, 1), bias=False)\n",
       "      (bn1): BatchNorm2d(64, eps=1e-05, momentum=0.1, affine=True, track_running_stats=True)\n",
       "      (relu): ReLU(inplace=True)\n",
       "      (conv2): Conv2d(64, 64, kernel_size=(3, 3), stride=(1, 1), padding=(1, 1), bias=False)\n",
       "      (bn2): BatchNorm2d(64, eps=1e-05, momentum=0.1, affine=True, track_running_stats=True)\n",
       "    )\n",
       "  )\n",
       "  (avgpool): AdaptiveAvgPool2d(output_size=(1, 1))\n",
       "  (fc): Linear(in_features=64, out_features=10, bias=True)\n",
       ")"
      ]
     },
     "execution_count": 70,
     "metadata": {},
     "output_type": "execute_result"
    }
   ],
   "source": [
    "import torch\n",
    "from torchvision import transforms\n",
    "import torchvision\n",
    "from PIL import Image\n",
    "import numpy as np\n",
    "import matplotlib.pyplot as plt\n",
    "import math\n",
    "\n",
    "model = torch.hub.load(\"chenyaofo/pytorch-cifar-models\", \"cifar10_resnet20\", pretrained=True)\n",
    "model.eval()"
   ]
  },
  {
   "cell_type": "code",
   "execution_count": 71,
   "id": "9e4f8c0f",
   "metadata": {
    "scrolled": true
   },
   "outputs": [
    {
     "name": "stdout",
     "output_type": "stream",
     "text": [
      "Using downloaded and verified file: ./cifar10.tgz\n"
     ]
    }
   ],
   "source": [
    "from torchvision.datasets.utils import download_url\n",
    "import tarfile\n",
    "import os\n",
    "\n",
    "dataset_url = \"https://s3.amazonaws.com/fast-ai-imageclas/cifar10.tgz\"\n",
    "download_url(dataset_url, '.')\n",
    "# Extract from archive\n",
    "with tarfile.open('./cifar10.tgz', 'r:gz') as tar:\n",
    "    tar.extractall(path='./data')"
   ]
  },
  {
   "cell_type": "code",
   "execution_count": 72,
   "id": "a9789d9a",
   "metadata": {},
   "outputs": [
    {
     "data": {
      "text/plain": [
       "['airplane',\n",
       " 'automobile',\n",
       " 'bird',\n",
       " 'cat',\n",
       " 'deer',\n",
       " 'dog',\n",
       " 'frog',\n",
       " 'horse',\n",
       " 'ship',\n",
       " 'truck']"
      ]
     },
     "execution_count": 72,
     "metadata": {},
     "output_type": "execute_result"
    }
   ],
   "source": [
    "data_dir = './data/cifar10'\n",
    "from torchvision.datasets import ImageFolder\n",
    "from torchvision.transforms import ToTensor\n",
    "test_dataset = ImageFolder(data_dir+'/test', transform=ToTensor())\n",
    "classes = test_dataset.classes\n",
    "classes"
   ]
  },
  {
   "cell_type": "code",
   "execution_count": 105,
   "id": "62bd9414",
   "metadata": {},
   "outputs": [
    {
     "name": "stdout",
     "output_type": "stream",
     "text": [
      "Min: -0.689258873462677\n",
      "Max: 1.4399827718734741\n",
      "Suggested Delta: 0.6944527528610365\n"
     ]
    }
   ],
   "source": [
    "values = []\n",
    "\n",
    "img = Image.open(\"../inputs/luis.png\")\n",
    "convert_tensor = transforms.ToTensor()\n",
    "img = convert_tensor(img)\n",
    "\n",
    "v = model.relu(model.bn1(model.conv1(img.unsqueeze(0))))\n",
    "copy = v\n",
    "v = model.layer1[0].bn1(model.layer1[0].conv1(v))\n",
    "v = model.layer1[0].relu(v)\n",
    "v = model.layer1[0].bn2(model.layer1[0].conv2(v))\n",
    "v = v + copy\n",
    "v = v.reshape(-1).detach().numpy()\n",
    "values.append(max(v))\n",
    "values.append(min(v))\n",
    "    \n",
    "print(\"Min: {}\\nMax: {}\\nSuggested Delta: {}\".format(min(v), max(v), 1 / (max(abs(min(v)), abs(max(v))))))"
   ]
  },
  {
   "cell_type": "markdown",
   "id": "c4852f39",
   "metadata": {},
   "source": [
    "## Initial Layer"
   ]
  },
  {
   "cell_type": "code",
   "execution_count": 112,
   "id": "5305a099",
   "metadata": {},
   "outputs": [
    {
     "name": "stdout",
     "output_type": "stream",
     "text": [
      "Min: -0.9530298709869385\n",
      "Max: 1.091073751449585\n",
      "Suggested Delta: 0.9165283269544467\n"
     ]
    }
   ],
   "source": [
    "values = []\n",
    "\n",
    "for img, label in test_dataset:\n",
    "    v = model.bn1(model.conv1((img.unsqueeze(0)))).reshape(-1).detach().numpy()\n",
    "    values.append(max(v))\n",
    "    values.append(min(v))\n",
    "    \n",
    "print(\"Min: {}\\nMax: {}\\nSuggested Delta: {}\".format(min(values), max(values), 1 / (max(abs(min(values)), abs(max(values))))))"
   ]
  },
  {
   "cell_type": "markdown",
   "id": "b75707e8",
   "metadata": {},
   "source": [
    "## Layer 1\n",
    "### Block 1"
   ]
  },
  {
   "cell_type": "markdown",
   "id": "72a67032",
   "metadata": {},
   "source": [
    "ConvBN1"
   ]
  },
  {
   "cell_type": "code",
   "execution_count": 106,
   "id": "5d6ea897",
   "metadata": {},
   "outputs": [
    {
     "name": "stdout",
     "output_type": "stream",
     "text": [
      "Min: -0.9679462909698486\n",
      "Max: 0.9597784280776978\n",
      "Suggested Delta: 1.033115173154943\n"
     ]
    }
   ],
   "source": [
    "values = []\n",
    "\n",
    "for img, label in test_dataset:\n",
    "    v = model.relu(model.bn1(model.conv1(img.unsqueeze(0))))\n",
    "    v = model.layer1[0].bn1(model.layer1[0].conv1(v)).reshape(-1).detach().numpy()\n",
    "    values.append(max(v))\n",
    "    values.append(min(v))\n",
    "    \n",
    "print(\"Min: {}\\nMax: {}\\nSuggested Delta: {}\".format(min(values), max(values), 1 / (max(abs(min(values)), abs(max(values))))))"
   ]
  },
  {
   "cell_type": "markdown",
   "id": "c1cc5f61",
   "metadata": {},
   "source": [
    "ConvBN2"
   ]
  },
  {
   "cell_type": "code",
   "execution_count": 107,
   "id": "23af2db2",
   "metadata": {},
   "outputs": [
    {
     "name": "stdout",
     "output_type": "stream",
     "text": [
      "Min: -1.1165902614593506\n",
      "Max: 1.858486294746399\n",
      "Suggested Delta: 0.538072302618974\n"
     ]
    }
   ],
   "source": [
    "values = []\n",
    "\n",
    "for img, label in test_dataset:\n",
    "    v = model.relu(model.bn1(model.conv1(img.unsqueeze(0))))\n",
    "    copy = v\n",
    "    v = model.layer1[0].bn1(model.layer1[0].conv1(v))\n",
    "    v = model.layer1[0].relu(v)\n",
    "    v = model.layer1[0].bn2(model.layer1[0].conv2(v))\n",
    "    v = v + copy\n",
    "    v = v.reshape(-1).detach().numpy()\n",
    "    values.append(max(v))\n",
    "    values.append(min(v))\n",
    "    \n",
    "print(\"Min: {}\\nMax: {}\\nSuggested Delta: {}\".format(min(values), max(values), 1 / (max(abs(min(values)), abs(max(values))))))"
   ]
  },
  {
   "cell_type": "markdown",
   "id": "b043dc7b",
   "metadata": {},
   "source": [
    "### Block 2\n",
    "ConvBN1"
   ]
  },
  {
   "cell_type": "code",
   "execution_count": 108,
   "id": "2e083b16",
   "metadata": {},
   "outputs": [
    {
     "name": "stdout",
     "output_type": "stream",
     "text": [
      "Min: -1.417116641998291\n",
      "Max: 1.1743462085723877\n",
      "Suggested Delta: 0.7056582149722619\n"
     ]
    }
   ],
   "source": [
    "values = []\n",
    "\n",
    "for img, label in test_dataset:\n",
    "    v = model.relu(model.bn1(model.conv1(img.unsqueeze(0))))\n",
    "    copy = v\n",
    "    v = model.layer1[0].bn1(model.layer1[0].conv1(v))\n",
    "    v = model.layer1[0].relu(v)\n",
    "    v = model.layer1[0].bn2(model.layer1[0].conv2(v))\n",
    "    v = v + copy\n",
    "    v = model.layer1[1].relu(v)\n",
    "    v = model.layer1[1].bn1(model.layer1[1].conv1(v)).reshape(-1).detach().numpy()\n",
    "    values.append(max(v))\n",
    "    values.append(min(v))\n",
    "    \n",
    "print(\"Min: {}\\nMax: {}\\nSuggested Delta: {}\".format(min(values), max(values), 1 / (max(abs(min(values)), abs(max(values))))))"
   ]
  },
  {
   "cell_type": "markdown",
   "id": "57c0735f",
   "metadata": {},
   "source": [
    "ConvBN2"
   ]
  },
  {
   "cell_type": "code",
   "execution_count": 109,
   "id": "fb91d945",
   "metadata": {},
   "outputs": [
    {
     "name": "stdout",
     "output_type": "stream",
     "text": [
      "Min: -1.015285611152649\n",
      "Max: 2.6954500675201416\n",
      "Suggested Delta: 0.3709955573096616\n"
     ]
    }
   ],
   "source": [
    "values = []\n",
    "\n",
    "for img, label in test_dataset:\n",
    "    v = model.relu(model.bn1(model.conv1(img.unsqueeze(0))))\n",
    "    copy = v\n",
    "    v = model.layer1[0].bn1(model.layer1[0].conv1(v))\n",
    "    v = model.layer1[0].relu(v)\n",
    "    v = model.layer1[0].bn2(model.layer1[0].conv2(v))\n",
    "    v = v + copy\n",
    "    v = model.layer1[1].relu(v)\n",
    "    copy = v\n",
    "    v = model.layer1[1].bn1(model.layer1[1].conv1(v))\n",
    "    v = model.layer1[1].relu(v)\n",
    "    v = model.layer1[1].bn2(model.layer1[1].conv2(v))\n",
    "    v = v + copy\n",
    "    v = v.reshape(-1).detach().numpy()\n",
    "    values.append(max(v))\n",
    "    values.append(min(v))\n",
    "    \n",
    "print(\"Min: {}\\nMax: {}\\nSuggested Delta: {}\".format(min(values), max(values), 1 / (max(abs(min(values)), abs(max(values))))))"
   ]
  },
  {
   "cell_type": "markdown",
   "id": "2336347a",
   "metadata": {},
   "source": [
    "## Block 3\n",
    "ConvBN1"
   ]
  },
  {
   "cell_type": "code",
   "execution_count": 110,
   "id": "d545aec6",
   "metadata": {},
   "outputs": [
    {
     "name": "stdout",
     "output_type": "stream",
     "text": [
      "Min: -1.5498157739639282\n",
      "Max: 1.2585359811782837\n",
      "Suggested Delta: 0.6452379804099703\n"
     ]
    }
   ],
   "source": [
    "values = []\n",
    "\n",
    "for img, label in test_dataset:\n",
    "    v = model.relu(model.bn1(model.conv1(img.unsqueeze(0))))\n",
    "    copy = v\n",
    "    v = model.layer1[0].bn1(model.layer1[0].conv1(v))\n",
    "    v = model.layer1[0].relu(v)\n",
    "    v = model.layer1[0].bn2(model.layer1[0].conv2(v))\n",
    "    v = v + copy\n",
    "    v = model.layer1[1].relu(v)\n",
    "    copy = v\n",
    "    v = model.layer1[1].bn1(model.layer1[1].conv1(v))\n",
    "    v = model.layer1[1].relu(v)\n",
    "    v = model.layer1[1].bn2(model.layer1[1].conv2(v))\n",
    "    v = v + copy\n",
    "    v = model.layer1[2].relu(v)\n",
    "    copy = v\n",
    "    v = model.layer1[2].bn1(model.layer1[2].conv1(v)).reshape(-1).detach().numpy()\n",
    "    values.append(max(v))\n",
    "    values.append(min(v))\n",
    "    \n",
    "print(\"Min: {}\\nMax: {}\\nSuggested Delta: {}\".format(min(values), max(values), 1 / (max(abs(min(values)), abs(max(values))))))"
   ]
  },
  {
   "cell_type": "code",
   "execution_count": 111,
   "id": "c091158d",
   "metadata": {},
   "outputs": [
    {
     "name": "stdout",
     "output_type": "stream",
     "text": [
      "Min: -1.2994799613952637\n",
      "Max: 2.2965595722198486\n",
      "Suggested Delta: 0.43543394741265196\n"
     ]
    }
   ],
   "source": [
    "values = []\n",
    "\n",
    "for img, label in test_dataset:\n",
    "    v = model.relu(model.bn1(model.conv1(img.unsqueeze(0))))\n",
    "    copy = v\n",
    "    v = model.layer1[0].bn1(model.layer1[0].conv1(v))\n",
    "    v = model.layer1[0].relu(v)\n",
    "    v = model.layer1[0].bn2(model.layer1[0].conv2(v))\n",
    "    v = v + copy\n",
    "    v = model.layer1[1].relu(v)\n",
    "    copy = v\n",
    "    v = model.layer1[1].bn1(model.layer1[1].conv1(v))\n",
    "    v = model.layer1[1].relu(v)\n",
    "    v = model.layer1[1].bn2(model.layer1[1].conv2(v))\n",
    "    v = v + copy\n",
    "    v = model.layer1[2].relu(v)\n",
    "    copy = v\n",
    "    v = model.layer1[2].bn1(model.layer1[2].conv1(v))\n",
    "    v = model.layer1[2].relu(v)\n",
    "    v = model.layer1[2].bn2(model.layer1[2].conv2(v))\n",
    "    v = v + copy\n",
    "    v = v.reshape(-1).detach().numpy()\n",
    "    values.append(max(v))\n",
    "    values.append(min(v))\n",
    "    \n",
    "print(\"Min: {}\\nMax: {}\\nSuggested Delta: {}\".format(min(values), max(values), 1 / (max(abs(min(values)), abs(max(values))))))"
   ]
  },
  {
   "cell_type": "code",
   "execution_count": 103,
   "id": "6d1124e6",
   "metadata": {},
   "outputs": [
    {
     "data": {
      "text/plain": [
       "[<matplotlib.lines.Line2D at 0x124628640>]"
      ]
     },
     "execution_count": 103,
     "metadata": {},
     "output_type": "execute_result"
    },
    {
     "data": {
      "image/png": "[encoded data removed]",
      "text/plain": [
       "<Figure size 640x480 with 1 Axes>"
      ]
     },
     "metadata": {},
     "output_type": "display_data"
    }
   ],
   "source": [
    "#Just to check previous computations were correct\n",
    "\n",
    "v = model.relu(model.bn1(model.conv1(img.unsqueeze(0))))\n",
    "copy = v\n",
    "v = model.layer1[0].bn1(model.layer1[0].conv1(v))\n",
    "v = model.layer1[0].relu(v)\n",
    "v = model.layer1[0].bn2(model.layer1[0].conv2(v))\n",
    "v = v + copy\n",
    "v = model.layer1[1].relu(v)\n",
    "copy = v\n",
    "v = model.layer1[1].bn1(model.layer1[1].conv1(v))\n",
    "v = model.layer1[1].relu(v)\n",
    "v = model.layer1[1].bn2(model.layer1[1].conv2(v))\n",
    "v = v + copy\n",
    "v = model.layer1[2].relu(v)\n",
    "copy = v\n",
    "v = model.layer1[2].bn1(model.layer1[2].conv1(v))\n",
    "v = model.layer1[2].relu(v)\n",
    "v = model.layer1[2].bn2(model.layer1[2].conv2(v))\n",
    "v = v + copy\n",
    "v = torch.relu(v)\n",
    "\n",
    "plt.plot(v.reshape(-1).detach())\n",
    "plt.plot(model.layer1(model.relu(model.bn1(model.conv1(img.unsqueeze(0))))).detach().reshape(-1))"
   ]
  },
  {
   "cell_type": "markdown",
   "id": "7974dddd",
   "metadata": {},
   "source": [
    "## Layer 2"
   ]
  },
  {
   "cell_type": "code",
   "execution_count": 132,
   "id": "34e7daa9",
   "metadata": {},
   "outputs": [
    {
     "name": "stdout",
     "output_type": "stream",
     "text": [
      "Min: -1.7267122268676758\n",
      "Max: 1.1909223794937134\n",
      "Suggested Delta: 0.5791352979610502\n"
     ]
    }
   ],
   "source": [
    "#Left branch\n",
    "\n",
    "values = []\n",
    "\n",
    "for img, label in test_dataset:\n",
    "    v = model.layer1(model.relu(model.bn1(model.conv1(img.unsqueeze(0)))))\n",
    "    v = model.layer2[0].bn1(model.layer2[0].conv1(v)).reshape(-1).detach().numpy()\n",
    "    values.append(max(v))\n",
    "    values.append(min(v))\n",
    "    \n",
    "print(\"Min: {}\\nMax: {}\\nSuggested Delta: {}\".format(min(values), max(values), 1 / (max(abs(min(values)), abs(max(values))))))"
   ]
  },
  {
   "cell_type": "code",
   "execution_count": 123,
   "id": "b15562bd",
   "metadata": {},
   "outputs": [
    {
     "name": "stdout",
     "output_type": "stream",
     "text": [
      "Min: -1.6815083026885986\n",
      "Max: 2.4765660762786865\n",
      "Suggested Delta: 0.4037849058736241\n"
     ]
    }
   ],
   "source": [
    "#Left branch 2\n",
    "\n",
    "values = []\n",
    "\n",
    "for img, label in test_dataset:\n",
    "    v = model.layer1(model.relu(model.bn1(model.conv1(img.unsqueeze(0)))))\n",
    "    #Left\n",
    "    vL = model.layer2[0].bn1(model.layer2[0].conv1(v))\n",
    "    vL = model.layer2[0].relu(vL)\n",
    "    vL = model.layer2[0].bn2(model.layer2[0].conv2(vL))\n",
    "    #Right\n",
    "    vR = model.layer2[0].downsample[1](model.layer2[0].downsample[0](v))\n",
    "    \n",
    "    v = vL + vR\n",
    "    v = v.reshape(-1).detach().numpy()\n",
    "    \n",
    "    values.append(max(v))\n",
    "    values.append(min(v))\n",
    "    \n",
    "print(\"Min: {}\\nMax: {}\\nSuggested Delta: {}\".format(min(values), max(values), 1 / (max(abs(min(values)), abs(max(values))))))"
   ]
  },
  {
   "cell_type": "code",
   "execution_count": 126,
   "id": "56077397",
   "metadata": {},
   "outputs": [
    {
     "name": "stdout",
     "output_type": "stream",
     "text": [
      "Min: -1.3106274604797363\n",
      "Max: 1.0215675830841064\n",
      "Suggested Delta: 0.7629933220184204\n"
     ]
    }
   ],
   "source": [
    "values = []\n",
    "\n",
    "for img, label in test_dataset:\n",
    "    v = model.layer1(model.relu(model.bn1(model.conv1(img.unsqueeze(0)))))\n",
    "    #Left\n",
    "    vL = model.layer2[0].bn1(model.layer2[0].conv1(v))\n",
    "    vL = model.layer2[0].relu(vL)\n",
    "    vL = model.layer2[0].bn2(model.layer2[0].conv2(vL))\n",
    "    #Right\n",
    "    vR = model.layer2[0].downsample[1](model.layer2[0].downsample[0](v))\n",
    "    \n",
    "    v = vL + vR\n",
    "    v = model.layer2[1].relu(v)\n",
    "    v = model.layer2[1].bn1(model.layer2[1].conv1(v))\n",
    "    \n",
    "    \n",
    "    v = v.reshape(-1).detach().numpy()\n",
    "    \n",
    "    values.append(max(v))\n",
    "    values.append(min(v))\n",
    "    \n",
    "print(\"Min: {}\\nMax: {}\\nSuggested Delta: {}\".format(min(values), max(values), 1 / (max(abs(min(values)), abs(max(values))))))"
   ]
  },
  {
   "cell_type": "code",
   "execution_count": 127,
   "id": "d7aa5b90",
   "metadata": {},
   "outputs": [
    {
     "name": "stdout",
     "output_type": "stream",
     "text": [
      "Min: -1.2168289422988892\n",
      "Max: 2.7025136947631836\n",
      "Suggested Delta: 0.3700258769965746\n"
     ]
    }
   ],
   "source": [
    "values = []\n",
    "\n",
    "for img, label in test_dataset:\n",
    "    v = model.layer1(model.relu(model.bn1(model.conv1(img.unsqueeze(0)))))\n",
    "    #Left\n",
    "    vL = model.layer2[0].bn1(model.layer2[0].conv1(v))\n",
    "    vL = model.layer2[0].relu(vL)\n",
    "    vL = model.layer2[0].bn2(model.layer2[0].conv2(vL))\n",
    "    #Right\n",
    "    vR = model.layer2[0].downsample[1](model.layer2[0].downsample[0](v))\n",
    "    \n",
    "    v = vL + vR\n",
    "    v = model.layer2[1].relu(v)\n",
    "    \n",
    "    copy = v\n",
    "    \n",
    "    v = model.layer2[1].bn1(model.layer2[1].conv1(v))\n",
    "    v = model.layer2[1].relu(v)\n",
    "    v = model.layer2[1].bn2(model.layer2[1].conv2(v))\n",
    "    \n",
    "    v = v + copy\n",
    "    \n",
    "    v = v.reshape(-1).detach().numpy()\n",
    "    \n",
    "    values.append(max(v))\n",
    "    values.append(min(v))\n",
    "    \n",
    "print(\"Min: {}\\nMax: {}\\nSuggested Delta: {}\".format(min(values), max(values), 1 / (max(abs(min(values)), abs(max(values))))))"
   ]
  },
  {
   "cell_type": "code",
   "execution_count": 129,
   "id": "8c1bfbf9",
   "metadata": {},
   "outputs": [
    {
     "name": "stdout",
     "output_type": "stream",
     "text": [
      "Min: -1.562697410583496\n",
      "Max: 1.5207512378692627\n",
      "Suggested Delta: 0.6399191508397072\n"
     ]
    }
   ],
   "source": [
    "values = []\n",
    "\n",
    "for img, label in test_dataset:\n",
    "    v = model.layer1(model.relu(model.bn1(model.conv1(img.unsqueeze(0)))))\n",
    "    #Left\n",
    "    vL = model.layer2[0].bn1(model.layer2[0].conv1(v))\n",
    "    vL = model.layer2[0].relu(vL)\n",
    "    vL = model.layer2[0].bn2(model.layer2[0].conv2(vL))\n",
    "    #Right\n",
    "    vR = model.layer2[0].downsample[1](model.layer2[0].downsample[0](v))\n",
    "    \n",
    "    v = vL + vR\n",
    "    v = model.layer2[1].relu(v)\n",
    "    \n",
    "    copy = v\n",
    "    \n",
    "    v = model.layer2[1].bn1(model.layer2[1].conv1(v))\n",
    "    v = model.layer2[1].relu(v)\n",
    "    v = model.layer2[1].bn2(model.layer2[1].conv2(v))\n",
    "    \n",
    "    v = v + copy\n",
    "    \n",
    "    v = model.layer2[2].relu(v)\n",
    "    \n",
    "    copy = v\n",
    "    \n",
    "    v = model.layer2[2].bn1(model.layer2[2].conv1(v))\n",
    "    \n",
    "    v = v.reshape(-1).detach().numpy()\n",
    "    \n",
    "    values.append(max(v))\n",
    "    values.append(min(v))\n",
    "    \n",
    "print(\"Min: {}\\nMax: {}\\nSuggested Delta: {}\".format(min(values), max(values), 1 / (max(abs(min(values)), abs(max(values))))))"
   ]
  },
  {
   "cell_type": "code",
   "execution_count": 130,
   "id": "1fbc3222",
   "metadata": {},
   "outputs": [
    {
     "name": "stdout",
     "output_type": "stream",
     "text": [
      "Min: -1.5193997621536255\n",
      "Max: 3.902751922607422\n",
      "Suggested Delta: 0.2562294554791742\n"
     ]
    }
   ],
   "source": [
    "values = []\n",
    "\n",
    "for img, label in test_dataset:\n",
    "    v = model.layer1(model.relu(model.bn1(model.conv1(img.unsqueeze(0)))))\n",
    "    #Left\n",
    "    vL = model.layer2[0].bn1(model.layer2[0].conv1(v))\n",
    "    vL = model.layer2[0].relu(vL)\n",
    "    vL = model.layer2[0].bn2(model.layer2[0].conv2(vL))\n",
    "    #Right\n",
    "    vR = model.layer2[0].downsample[1](model.layer2[0].downsample[0](v))\n",
    "    \n",
    "    v = vL + vR\n",
    "    v = model.layer2[1].relu(v)\n",
    "    \n",
    "    copy = v\n",
    "    \n",
    "    v = model.layer2[1].bn1(model.layer2[1].conv1(v))\n",
    "    v = model.layer2[1].relu(v)\n",
    "    v = model.layer2[1].bn2(model.layer2[1].conv2(v))\n",
    "    \n",
    "    v = v + copy\n",
    "    \n",
    "    v = model.layer2[2].relu(v)\n",
    "    \n",
    "    copy = v\n",
    "    \n",
    "    v = model.layer2[2].bn1(model.layer2[2].conv1(v))\n",
    "    v = model.layer2[2].relu(v)\n",
    "    v = model.layer2[2].bn2(model.layer2[2].conv2(v))\n",
    "    \n",
    "    v = v + copy\n",
    "    \n",
    "    v = v.reshape(-1).detach().numpy()\n",
    "    \n",
    "    values.append(max(v))\n",
    "    values.append(min(v))\n",
    "    \n",
    "print(\"Min: {}\\nMax: {}\\nSuggested Delta: {}\".format(min(values), max(values), 1 / (max(abs(min(values)), abs(max(values))))))"
   ]
  },
  {
   "cell_type": "code",
   "execution_count": 131,
   "id": "2269af4c",
   "metadata": {},
   "outputs": [
    {
     "data": {
      "text/plain": [
       "[<matplotlib.lines.Line2D at 0x124364160>]"
      ]
     },
     "execution_count": 131,
     "metadata": {},
     "output_type": "execute_result"
    },
    {
     "data": {
      "image/png": "[encoded data removed]",
      "text/plain": [
       "<Figure size 640x480 with 1 Axes>"
      ]
     },
     "metadata": {},
     "output_type": "display_data"
    }
   ],
   "source": [
    "#Just to check previous computations were correct\n",
    "\n",
    "v = model.layer1(model.relu(model.bn1(model.conv1(img.unsqueeze(0)))))\n",
    "#Left\n",
    "vL = model.layer2[0].bn1(model.layer2[0].conv1(v))\n",
    "vL = model.layer2[0].relu(vL)\n",
    "vL = model.layer2[0].bn2(model.layer2[0].conv2(vL))\n",
    "#Right\n",
    "vR = model.layer2[0].downsample[1](model.layer2[0].downsample[0](v))\n",
    "v = vL + vR\n",
    "v = model.layer2[1].relu(v)\n",
    "copy = v\n",
    "v = model.layer2[1].bn1(model.layer2[1].conv1(v))\n",
    "v = model.layer2[1].relu(v)\n",
    "v = model.layer2[1].bn2(model.layer2[1].conv2(v))\n",
    "v = v + copy\n",
    "v = model.layer2[2].relu(v)\n",
    "copy = v\n",
    "v = model.layer2[2].bn1(model.layer2[2].conv1(v))\n",
    "v = model.layer2[2].relu(v)\n",
    "v = model.layer2[2].bn2(model.layer2[2].conv2(v))\n",
    "v = v + copy\n",
    "v = model.layer2[2].relu(v)\n",
    "\n",
    "plt.plot(v.reshape(-1).detach())\n",
    "plt.plot(model.layer2(model.layer1(model.relu(model.bn1(model.conv1(img.unsqueeze(0)))))).detach().reshape(-1))"
   ]
  },
  {
   "cell_type": "markdown",
   "id": "9b488072",
   "metadata": {},
   "source": [
    "## Layer 3"
   ]
  },
  {
   "cell_type": "code",
   "execution_count": 133,
   "id": "a28f64fb",
   "metadata": {},
   "outputs": [
    {
     "name": "stdout",
     "output_type": "stream",
     "text": [
      "Min: -1.3424136638641357\n",
      "Max: 1.5531986951828003\n",
      "Suggested Delta: 0.64383262946426\n"
     ]
    }
   ],
   "source": [
    "values = []\n",
    "\n",
    "for img, label in test_dataset:\n",
    "    v = model.layer2(model.layer1(model.relu(model.bn1(model.conv1(img.unsqueeze(0))))))\n",
    "    v = model.layer3[0].bn1(model.layer3[0].conv1(v)).reshape(-1).detach().numpy()\n",
    "    values.append(max(v))\n",
    "    values.append(min(v))\n",
    "    \n",
    "print(\"Min: {}\\nMax: {}\\nSuggested Delta: {}\".format(min(values), max(values), 1 / (max(abs(min(values)), abs(max(values))))))"
   ]
  },
  {
   "cell_type": "code",
   "execution_count": 135,
   "id": "b46c1cdc",
   "metadata": {},
   "outputs": [
    {
     "name": "stdout",
     "output_type": "stream",
     "text": [
      "Min: -1.8291257619857788\n",
      "Max: 2.4968225955963135\n",
      "Suggested Delta: 0.40050903166437063\n"
     ]
    }
   ],
   "source": [
    "#Left branch 2\n",
    "\n",
    "values = []\n",
    "\n",
    "for img, label in test_dataset:\n",
    "    v = model.layer2(model.layer1(model.relu(model.bn1(model.conv1(img.unsqueeze(0))))))\n",
    "    #Left\n",
    "    vL = model.layer3[0].bn1(model.layer3[0].conv1(v))\n",
    "    vL = model.layer3[0].relu(vL)\n",
    "    vL = model.layer3[0].bn2(model.layer3[0].conv2(vL))\n",
    "    #Right\n",
    "    vR = model.layer3[0].downsample[1](model.layer3[0].downsample[0](v))\n",
    "    \n",
    "    v = vL + vR\n",
    "    v = v.reshape(-1).detach().numpy()\n",
    "    \n",
    "    values.append(max(v))\n",
    "    values.append(min(v))\n",
    "    \n",
    "print(\"Min: {}\\nMax: {}\\nSuggested Delta: {}\".format(min(values), max(values), 1 / (max(abs(min(values)), abs(max(values))))))"
   ]
  },
  {
   "cell_type": "code",
   "execution_count": 137,
   "id": "eb492de9",
   "metadata": {},
   "outputs": [
    {
     "name": "stdout",
     "output_type": "stream",
     "text": [
      "Min: -1.7428849935531616\n",
      "Max: 1.3453339338302612\n",
      "Suggested Delta: 0.573761323150378\n"
     ]
    }
   ],
   "source": [
    "values = []\n",
    "\n",
    "for img, label in test_dataset:\n",
    "    v = model.layer2(model.layer1(model.relu(model.bn1(model.conv1(img.unsqueeze(0))))))\n",
    "    #Left\n",
    "    vL = model.layer3[0].bn1(model.layer3[0].conv1(v))\n",
    "    vL = model.layer3[0].relu(vL)\n",
    "    vL = model.layer3[0].bn2(model.layer3[0].conv2(vL))\n",
    "    #Right\n",
    "    vR = model.layer3[0].downsample[1](model.layer3[0].downsample[0](v))\n",
    "    \n",
    "    v = vL + vR\n",
    "    v = model.layer3[1].relu(v)\n",
    "    v = model.layer3[1].bn1(model.layer3[1].conv1(v))\n",
    "    \n",
    "    \n",
    "    v = v.reshape(-1).detach().numpy()\n",
    "    \n",
    "    values.append(max(v))\n",
    "    values.append(min(v))\n",
    "    \n",
    "print(\"Min: {}\\nMax: {}\\nSuggested Delta: {}\".format(min(values), max(values), 1 / (max(abs(min(values)), abs(max(values))))))"
   ]
  },
  {
   "cell_type": "code",
   "execution_count": 138,
   "id": "c9a7a398",
   "metadata": {},
   "outputs": [
    {
     "name": "stdout",
     "output_type": "stream",
     "text": [
      "Min: -2.104152202606201\n",
      "Max: 2.9482364654541016\n",
      "Suggested Delta: 0.33918581895227157\n"
     ]
    }
   ],
   "source": [
    "values = []\n",
    "\n",
    "for img, label in test_dataset:\n",
    "    v = model.layer2(model.layer1(model.relu(model.bn1(model.conv1(img.unsqueeze(0))))))\n",
    "    #Left\n",
    "    vL = model.layer3[0].bn1(model.layer3[0].conv1(v))\n",
    "    vL = model.layer3[0].relu(vL)\n",
    "    vL = model.layer3[0].bn2(model.layer3[0].conv2(vL))\n",
    "    #Right\n",
    "    vR = model.layer3[0].downsample[1](model.layer3[0].downsample[0](v))\n",
    "    \n",
    "    v = vL + vR\n",
    "    v = model.layer3[1].relu(v)\n",
    "    copy = v\n",
    "    \n",
    "    v = model.layer3[1].bn1(model.layer3[1].conv1(v))\n",
    "    v = model.layer3[1].relu(v)\n",
    "    v = model.layer3[1].bn2(model.layer3[1].conv2(v))\n",
    "    \n",
    "    v = v + copy\n",
    "    \n",
    "    v = v.reshape(-1).detach().numpy()\n",
    "    \n",
    "    \n",
    "    values.append(max(v))\n",
    "    values.append(min(v))\n",
    "    \n",
    "print(\"Min: {}\\nMax: {}\\nSuggested Delta: {}\".format(min(values), max(values), 1 / (max(abs(min(values)), abs(max(values))))))"
   ]
  },
  {
   "cell_type": "code",
   "execution_count": 139,
   "id": "dfb0edbc",
   "metadata": {},
   "outputs": [
    {
     "name": "stdout",
     "output_type": "stream",
     "text": [
      "Min: -1.417157769203186\n",
      "Max: 1.1955695152282715\n",
      "Suggested Delta: 0.7056377361302983\n"
     ]
    }
   ],
   "source": [
    "values = []\n",
    "\n",
    "for img, label in test_dataset:\n",
    "    v = model.layer2(model.layer1(model.relu(model.bn1(model.conv1(img.unsqueeze(0))))))\n",
    "    #Left\n",
    "    vL = model.layer3[0].bn1(model.layer3[0].conv1(v))\n",
    "    vL = model.layer3[0].relu(vL)\n",
    "    vL = model.layer3[0].bn2(model.layer3[0].conv2(vL))\n",
    "    #Right\n",
    "    vR = model.layer3[0].downsample[1](model.layer3[0].downsample[0](v))\n",
    "    \n",
    "    v = vL + vR\n",
    "    v = model.layer3[1].relu(v)\n",
    "    copy = v\n",
    "    \n",
    "    v = model.layer3[1].bn1(model.layer3[1].conv1(v))\n",
    "    v = model.layer3[1].relu(v)\n",
    "    v = model.layer3[1].bn2(model.layer3[1].conv2(v))\n",
    "    \n",
    "    v = v + copy\n",
    "    \n",
    "    v = model.layer3[2].relu(v)\n",
    "    \n",
    "    copy = v\n",
    "    \n",
    "    v = model.layer3[2].bn1(model.layer3[2].conv1(v))\n",
    "    \n",
    "    v = v.reshape(-1).detach().numpy()\n",
    "    \n",
    "    \n",
    "    values.append(max(v))\n",
    "    values.append(min(v))\n",
    "    \n",
    "print(\"Min: {}\\nMax: {}\\nSuggested Delta: {}\".format(min(values), max(values), 1 / (max(abs(min(values)), abs(max(values))))))"
   ]
  },
  {
   "cell_type": "code",
   "execution_count": 140,
   "id": "daefbb24",
   "metadata": {},
   "outputs": [
    {
     "name": "stdout",
     "output_type": "stream",
     "text": [
      "Min: -6.800760269165039\n",
      "Max: 12.334877014160156\n",
      "Suggested Delta: 0.0810709339746171\n"
     ]
    }
   ],
   "source": [
    "values = []\n",
    "\n",
    "for img, label in test_dataset:\n",
    "    v = model.layer2(model.layer1(model.relu(model.bn1(model.conv1(img.unsqueeze(0))))))\n",
    "    #Left\n",
    "    vL = model.layer3[0].bn1(model.layer3[0].conv1(v))\n",
    "    vL = model.layer3[0].relu(vL)\n",
    "    vL = model.layer3[0].bn2(model.layer3[0].conv2(vL))\n",
    "    #Right\n",
    "    vR = model.layer3[0].downsample[1](model.layer3[0].downsample[0](v))\n",
    "    \n",
    "    v = vL + vR\n",
    "    v = model.layer3[1].relu(v)\n",
    "    copy = v\n",
    "    \n",
    "    v = model.layer3[1].bn1(model.layer3[1].conv1(v))\n",
    "    v = model.layer3[1].relu(v)\n",
    "    v = model.layer3[1].bn2(model.layer3[1].conv2(v))\n",
    "    \n",
    "    v = v + copy\n",
    "    \n",
    "    v = model.layer3[2].relu(v)\n",
    "    \n",
    "    copy = v\n",
    "    \n",
    "    v = model.layer3[2].bn1(model.layer3[2].conv1(v))\n",
    "    v = model.layer3[2].relu(v)\n",
    "    v = model.layer3[2].bn2(model.layer3[2].conv2(v))\n",
    "    \n",
    "    v = v + copy\n",
    "    \n",
    "    \n",
    "    v = v.reshape(-1).detach().numpy()\n",
    "    \n",
    "    \n",
    "    values.append(max(v))\n",
    "    values.append(min(v))\n",
    "    \n",
    "print(\"Min: {}\\nMax: {}\\nSuggested Delta: {}\".format(min(values), max(values), 1 / (max(abs(min(values)), abs(max(values))))))"
   ]
  },
  {
   "cell_type": "code",
   "execution_count": 142,
   "id": "10245a61",
   "metadata": {},
   "outputs": [
    {
     "data": {
      "text/plain": [
       "[<matplotlib.lines.Line2D at 0x1248bfc10>]"
      ]
     },
     "execution_count": 142,
     "metadata": {},
     "output_type": "execute_result"
    },
    {
     "data": {
      "image/png": "[encoded data removed]",
      "text/plain": [
       "<Figure size 640x480 with 1 Axes>"
      ]
     },
     "metadata": {},
     "output_type": "display_data"
    }
   ],
   "source": [
    "#Just to check previous computations were correct\n",
    "\n",
    "v = model.layer2(model.layer1(model.relu(model.bn1(model.conv1(img.unsqueeze(0))))))\n",
    "#Left\n",
    "vL = model.layer3[0].bn1(model.layer3[0].conv1(v))\n",
    "vL = model.layer3[0].relu(vL)\n",
    "vL = model.layer3[0].bn2(model.layer3[0].conv2(vL))\n",
    "#Right\n",
    "vR = model.layer3[0].downsample[1](model.layer3[0].downsample[0](v))\n",
    "v = vL + vR\n",
    "v = model.layer3[1].relu(v)\n",
    "copy = v\n",
    "v = model.layer3[1].bn1(model.layer3[1].conv1(v))\n",
    "v = model.layer3[1].relu(v)\n",
    "v = model.layer3[1].bn2(model.layer3[1].conv2(v))\n",
    "v = v + copy\n",
    "v = model.layer3[2].relu(v)\n",
    "copy = v\n",
    "v = model.layer3[2].bn1(model.layer3[2].conv1(v))\n",
    "v = model.layer3[2].relu(v)\n",
    "v = model.layer3[2].bn2(model.layer3[2].conv2(v))\n",
    "v = v + copy\n",
    "v = model.layer3[2].relu(v)\n",
    "\n",
    "plt.plot(v.reshape(-1).detach())\n",
    "plt.plot(model.layer3(model.layer2(model.layer1(model.relu(model.bn1(model.conv1(img.unsqueeze(0))))))).detach().reshape(-1))"
   ]
  },
  {
   "cell_type": "markdown",
   "id": "49148589",
   "metadata": {},
   "source": [
    "## Final Layer"
   ]
  },
  {
   "cell_type": "markdown",
   "id": "e283f10d",
   "metadata": {},
   "source": [
    "No ReLUs in here"
   ]
  }
 ],
 "metadata": {
  "kernelspec": {
   "display_name": "Python 3 (ipykernel)",
   "language": "python",
   "name": "python3"
  },
  "language_info": {
   "codemirror_mode": {
    "name": "ipython",
    "version": 3
   },
   "file_extension": ".py",
   "mimetype": "text/x-python",
   "name": "python",
   "nbconvert_exporter": "python",
   "pygments_lexer": "ipython3",
   "version": "3.9.6"
  }
 },
 "nbformat": 4,
 "nbformat_minor": 5
}
