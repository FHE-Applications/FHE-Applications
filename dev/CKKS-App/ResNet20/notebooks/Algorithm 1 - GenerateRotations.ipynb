{
 "cells": [
  {
   "cell_type": "markdown",
   "id": "ef4691d2",
   "metadata": {},
   "source": [
    "## Algorithm 1\n",
    "\n",
    "This notebook implements the Algorithm 1 described in the paper, called GenerateRotations"
   ]
  },
  {
   "cell_type": "code",
   "execution_count": 283,
   "id": "1f585c38",
   "metadata": {},
   "outputs": [],
   "source": [
    "import math\n",
    "k = 3\n",
    "\n",
    "if k % 2 == 0:\n",
    "    print(\"k must be odd-sized\")"
   ]
  },
  {
   "cell_type": "markdown",
   "id": "d0f70be3",
   "metadata": {},
   "source": [
    "We create an empty dictionary"
   ]
  },
  {
   "cell_type": "code",
   "execution_count": 284,
   "id": "bf02568b",
   "metadata": {},
   "outputs": [],
   "source": [
    "r = {}\n",
    "for i in range(k**2):\n",
    "    r[i] = 0"
   ]
  },
  {
   "cell_type": "markdown",
   "id": "dd8aaf5e",
   "metadata": {},
   "source": [
    "We set the name for the first $\\textbf{c}$, which contains the central element"
   ]
  },
  {
   "cell_type": "code",
   "execution_count": 285,
   "id": "13bfdbdd",
   "metadata": {},
   "outputs": [],
   "source": [
    "mid = math.floor((k**2) / 2)\n",
    "r[mid] = \"c\"\n",
    "half = math.floor(k/2)"
   ]
  },
  {
   "cell_type": "markdown",
   "id": "fddf40ba",
   "metadata": {},
   "source": [
    "Next, we define the rotations of the central column"
   ]
  },
  {
   "cell_type": "code",
   "execution_count": 286,
   "id": "e9b11dfa",
   "metadata": {},
   "outputs": [],
   "source": [
    "for i in range(1, half + 1):\n",
    "    r[mid + (i*k)] = \"Rot(r[{}], +w)\".format(mid + ((i-1)*k)) #c[mid + ((i-1)*k)]\n",
    "    r[mid - (i*k)] = \"Rot(r[{}], -w)\".format(mid - ((i-1)*k)) #c[mid - ((i-1)*k)] + \" - w\""
   ]
  },
  {
   "cell_type": "markdown",
   "id": "2abc7e46",
   "metadata": {},
   "source": [
    "Then, all the others"
   ]
  },
  {
   "cell_type": "code",
   "execution_count": 287,
   "id": "50b589a0",
   "metadata": {},
   "outputs": [],
   "source": [
    "for i in range(k):\n",
    "    row = k * i\n",
    "    for j in range(half):\n",
    "        col = j + 1 + half\n",
    "        r[row+col] = \"Rot(r[{}], +1)\".format(row+col-1)\n",
    "        col = -j - 1 + half\n",
    "        r[row+col] = \"Rot(r[{}], -1)\".format(row+col+1)"
   ]
  },
  {
   "cell_type": "markdown",
   "id": "e57e6555",
   "metadata": {},
   "source": [
    "Each ciphertext is constructed in relation to others as follows:"
   ]
  },
  {
   "cell_type": "code",
   "execution_count": 293,
   "id": "6273fa09",
   "metadata": {},
   "outputs": [
    {
     "name": "stdout",
     "output_type": "stream",
     "text": [
      "r[0] : Rot(r[1], -1)\n",
      "r[1] : FastRot(r[4], -w)\n",
      "r[2] : Rot(r[1], +1)\n",
      "r[3] : FastRot(r[4], -1)\n",
      "r[4] : c\n",
      "r[5] : FastRot(r[4], +1)\n",
      "r[6] : Rot(r[7], -1)\n",
      "r[7] : FastRot(r[4], +w)\n",
      "r[8] : Rot(r[7], +1)\n"
     ]
    }
   ],
   "source": [
    "for i in range(len(r.keys())):\n",
    "    print(\"r[{}] : {}\".format(i, r[i]).replace(\"Rot(r[{}]\".format(mid), \"FastRot(r[{}]\".format(mid)))"
   ]
  },
  {
   "cell_type": "markdown",
   "id": "0e504fd3",
   "metadata": {},
   "source": [
    "We created all the rotations using only four rotation keys"
   ]
  }
 ],
 "metadata": {
  "kernelspec": {
   "display_name": "Python 3 (ipykernel)",
   "language": "python",
   "name": "python3"
  },
  "language_info": {
   "codemirror_mode": {
    "name": "ipython",
    "version": 3
   },
   "file_extension": ".py",
   "mimetype": "text/x-python",
   "name": "python",
   "nbconvert_exporter": "python",
   "pygments_lexer": "ipython3",
   "version": "3.9.6"
  }
 },
 "nbformat": 4,
 "nbformat_minor": 5
}
